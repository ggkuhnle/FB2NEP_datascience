{
 "cells": [
  {
   "cell_type": "markdown",
   "id": "372fdab2",
   "metadata": {},
   "source": [
    "# 04 – Survival Analysis\n",
    "\n",
    "In this notebook, we will:\n",
    "\n",
    "- Understand what survival analysis is and when to use it\n",
    "- Explore censoring and time-to-event data\n",
    "- Use Kaplan–Meier plots and Cox proportional hazards regression\n",
    "- Run survival models on synthetic public health data\n"
   ]
  },
  {
   "cell_type": "markdown",
   "id": "1b2aff19",
   "metadata": {},
   "source": [
    "## ⏳ What is Survival Analysis?\n",
    "\n",
    "Survival analysis is used when the outcome is the **time until an event occurs** (e.g., death, diagnosis, dropout).\n",
    "\n",
    "Key features:\n",
    "- **Censoring**: We don’t observe the event for everyone within the study period.\n",
    "- **Survival function**: Probability of surviving beyond time *t*.\n",
    "- **Hazard function**: Instantaneous risk at time *t*.\n",
    "\n",
    "We’ll explore both non-parametric (Kaplan–Meier) and semi-parametric (Cox) models.\n"
   ]
  },
  {
   "cell_type": "code",
   "execution_count": null,
   "id": "66053e2b",
   "metadata": {},
   "outputs": [],
   "source": [
    "import pandas as pd\n",
    "import numpy as np\n",
    "import seaborn as sns\n",
    "import matplotlib.pyplot as plt\n",
    "from lifelines import KaplanMeierFitter, CoxPHFitter\n",
    "\n",
    "# Load dataset\n",
    "df = pd.read_csv('https://raw.githubusercontent.com/ggkuhnle/FB2NEP_datascience/main/data/fb2nep_data.csv')\n",
    "\n",
    "# Add synthetic survival data\n",
    "np.random.seed(11088)\n",
    "df['time'] = np.random.exponential(scale=10, size=len(df)).round(1)\n",
    "df['event'] = np.random.binomial(1, 0.7, size=len(df))"
   ]
  },
  {
   "cell_type": "markdown",
   "id": "cd3d954d",
   "metadata": {},
   "source": [
    "## 📉 Kaplan–Meier Estimator"
   ]
  },
  {
   "cell_type": "code",
   "execution_count": null,
   "id": "f239ceb4",
   "metadata": {},
   "outputs": [],
   "source": [
    "kmf = KaplanMeierFitter()\n",
    "kmf.fit(df['time'], event_observed=df['event'])\n",
    "\n",
    "# Plot\n",
    "plt.figure(figsize=(8, 5))\n",
    "kmf.plot()\n",
    "plt.title('Kaplan–Meier Survival Curve')\n",
    "plt.xlabel('Time')\n",
    "plt.ylabel('Survival Probability')\n",
    "plt.grid(True)\n",
    "plt.show()"
   ]
  },
  {
   "cell_type": "markdown",
   "id": "104fec93",
   "metadata": {},
   "source": [
    "### Compare survival curves by sex"
   ]
  },
  {
   "cell_type": "code",
   "execution_count": null,
   "id": "b8ee55e9",
   "metadata": {},
   "outputs": [],
   "source": [
    "fig, ax = plt.subplots(figsize=(8, 5))\n",
    "for label, grouped_df in df.groupby('sex'):\n",
    "    kmf.fit(grouped_df['time'], grouped_df['event'], label=label)\n",
    "    kmf.plot(ax=ax)\n",
    "plt.title('Survival by Sex')\n",
    "plt.xlabel('Time')\n",
    "plt.ylabel('Survival Probability')\n",
    "plt.grid(True)\n",
    "plt.show()"
   ]
  },
  {
   "cell_type": "markdown",
   "id": "6c5c8c8e",
   "metadata": {},
   "source": [
    "## 🔧 Cox Proportional Hazards Model"
   ]
  },
  {
   "cell_type": "code",
   "execution_count": null,
   "id": "15fb29c3",
   "metadata": {},
   "outputs": [],
   "source": [
    "cph = CoxPHFitter()\n",
    "cph_df = df[['time', 'event', 'age', 'bmi', 'sex']].copy()\n",
    "cph_df['sex'] = cph_df['sex'].astype('category')\n",
    "cph_df = pd.get_dummies(cph_df, drop_first=True)\n",
    "\n",
    "cph.fit(cph_df, duration_col='time', event_col='event')\n",
    "cph.print_summary()"
   ]
  },
  {
   "cell_type": "markdown",
   "id": "9eb1a826",
   "metadata": {},
   "source": [
    "## 📘 Interpretation\n",
    "\n",
    "- Hazard ratios (HR > 1: higher risk, HR < 1: lower risk)\n",
    "- Check p-values and confidence intervals\n",
    "- Note: Assumes proportional hazards over time\n",
    "\n",
    "Explore age, sex, and BMI effects.\n"
   ]
  },
  {
   "cell_type": "markdown",
   "id": "d82f6ec4",
   "metadata": {},
   "source": [
    "## 🧠 Exercise\n",
    "\n",
    "1. Add a new variable (e.g. smoker) and test if it affects survival.\n",
    "2. Try stratifying Kaplan–Meier curves by BMI category.\n",
    "3. Check if your Cox model still works when adding more variables.\n",
    "\n",
    "✍️ Add your reflections below.\n"
   ]
  },
  {
   "cell_type": "markdown",
   "id": "6d84c3df",
   "metadata": {},
   "source": [
    "## 🧪 Playground – experiment here"
   ]
  },
  {
   "cell_type": "code",
   "execution_count": null,
   "id": "bab8010c",
   "metadata": {},
   "outputs": [],
   "source": [
    "# Your code here"
   ]
  }
 ],
 "metadata": {},
 "nbformat": 4,
 "nbformat_minor": 5
}
