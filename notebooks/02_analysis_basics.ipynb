{
 "cells": [
  {
   "cell_type": "markdown",
   "id": "cd2dc03d",
   "metadata": {},
   "source": [
    "# 02 – Exploring and Transforming Data\n",
    "\n",
    "In this notebook, we will:\n",
    "- Visualise variable distributions\n",
    "- Apply data transformations (z-score, quantiles, log)\n",
    "- Examine relationships between variables using correlation\n",
    "- Compare groups (Table 1-style summary)\n",
    "- Run a simple linear regression\n",
    "\n",
    "Make sure you've already loaded the dataset using the previous notebook.\n"
   ]
  },
  {
   "cell_type": "code",
   "execution_count": null,
   "id": "0e475b3b",
   "metadata": {},
   "outputs": [],
   "source": [
    "import pandas as pd\n",
    "import numpy as np\n",
    "import seaborn as sns\n",
    "import matplotlib.pyplot as plt\n",
    "import scipy.stats as stats\n",
    "import statsmodels.api as sm\n",
    "import statsmodels.formula.api as smf\n",
    "\n",
    "sns.set(style=\"whitegrid\")\n",
    "\n",
    "df = pd.read_csv('https://raw.githubusercontent.com/ggkuhnle/FB2NEP_datascience/main/data/fb2nep_data.csv')"
   ]
  },
  {
   "cell_type": "markdown",
   "id": "222c9b23",
   "metadata": {},
   "source": [
    "## 📈 Distribution of Numeric Variables"
   ]
  },
  {
   "cell_type": "code",
   "execution_count": null,
   "id": "0c9fd5be",
   "metadata": {},
   "outputs": [],
   "source": [
    "# Histogram of age\n",
    "sns.histplot(df['age'], kde=True)\n",
    "plt.title(\"Age Distribution\")\n",
    "plt.show()"
   ]
  },
  {
   "cell_type": "markdown",
   "id": "55136873",
   "metadata": {},
   "source": [
    "## 🔁 Transformations"
   ]
  },
  {
   "cell_type": "code",
   "execution_count": null,
   "id": "7e2e7cd3",
   "metadata": {},
   "outputs": [],
   "source": [
    "# Z-score\n",
    "df['age_z'] = (df['age'] - df['age'].mean()) / df['age'].std()\n",
    "\n",
    "# Quantiles\n",
    "df['age_q'] = pd.qcut(df['age'], q=4)\n",
    "\n",
    "# Log transform example\n",
    "df['log_energy'] = np.log(df['energy_kcal'] + 1)  # Add 1 to avoid log(0)\n",
    "\n",
    "sns.histplot(df['log_energy'], kde=True)\n",
    "plt.title(\"Log-transformed Energy Intake\")\n",
    "plt.show()"
   ]
  },
  {
   "cell_type": "markdown",
   "id": "7cc39bdb",
   "metadata": {},
   "source": [
    "## 🔗 Correlation Matrix"
   ]
  },
  {
   "cell_type": "code",
   "execution_count": null,
   "id": "314aca14",
   "metadata": {},
   "outputs": [],
   "source": [
    "corr_vars = ['age', 'bmi', 'energy_kcal', 'sbp', 'dbp']\n",
    "corr = df[corr_vars].corr()\n",
    "sns.heatmap(corr, annot=True, cmap='coolwarm')\n",
    "plt.title(\"Correlation Matrix\")\n",
    "plt.show()"
   ]
  },
  {
   "cell_type": "markdown",
   "id": "dd483f44",
   "metadata": {},
   "source": [
    "## 📋 Table 1: Compare Groups"
   ]
  },
  {
   "cell_type": "code",
   "execution_count": null,
   "id": "4392608e",
   "metadata": {},
   "outputs": [],
   "source": [
    "# Compare age and energy intake between males and females\n",
    "df.groupby('sex')[['age', 'energy_kcal', 'bmi']].agg(['mean', 'std', 'count'])"
   ]
  },
  {
   "cell_type": "code",
   "execution_count": null,
   "id": "563c916b",
   "metadata": {},
   "outputs": [],
   "source": [
    "# T-test for energy intake\n",
    "stats.ttest_ind(df[df['sex'] == 'female']['energy_kcal'],\n",
    "                df[df['sex'] == 'male']['energy_kcal'],\n",
    "                nan_policy='omit')"
   ]
  },
  {
   "cell_type": "markdown",
   "id": "38820007",
   "metadata": {},
   "source": [
    "## 📉 Simple Linear Regression"
   ]
  },
  {
   "cell_type": "code",
   "execution_count": null,
   "id": "467eb45b",
   "metadata": {},
   "outputs": [],
   "source": [
    "# Predict systolic blood pressure (sbp) from age\n",
    "model = smf.ols('sbp ~ age', data=df).fit()\n",
    "print(model.summary())"
   ]
  },
  {
   "cell_type": "markdown",
   "id": "a7580744",
   "metadata": {},
   "source": [
    "## 🧠 Exercise\n",
    "\n",
    "Choose a numeric outcome (e.g. `dbp`, `bmi`, `energy_kcal`) and a plausible predictor.\n",
    "\n",
    "1. Create a plot to visualise the relationship.\n",
    "2. Fit a simple regression model.\n",
    "3. Comment on the strength and limitations of your model.\n",
    "\n",
    "✍️ Add your comments in a text cell below."
   ]
  },
  {
   "cell_type": "markdown",
   "id": "ed20e185",
   "metadata": {},
   "source": [
    "## 🧪 Playground – try your own code below"
   ]
  },
  {
   "cell_type": "code",
   "execution_count": null,
   "id": "67c766a9",
   "metadata": {},
   "outputs": [],
   "source": [
    "# Write your own code here!"
   ]
  }
 ],
 "metadata": {},
 "nbformat": 4,
 "nbformat_minor": 5
}
