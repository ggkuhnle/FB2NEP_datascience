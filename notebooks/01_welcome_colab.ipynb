{
 "cells": [
  {
   "cell_type": "markdown",
   "id": "431edf21",
   "metadata": {},
   "source": [
    "# 🐍 Welcome to Python and Colab for Public Health Nutrition\n",
    "\n",
    "This notebook is your first step into the world of **Python** and **data analysis**.  \n",
    "We'll use **Google Colab**, a free cloud-based coding environment, to explore datasets and uncover insights relevant to **public health nutrition**.\n",
    "\n",
    "📌 **What is Python?**\n",
    "> Python is a programming language used for data science, machine learning, and scientific research. It’s readable, flexible, and widely used.\n",
    "\n",
    "📌 **What is Google Colab?**\n",
    "> Colab is a free, browser-based version of Jupyter Notebook that runs Python code on Google’s servers — no setup needed!\n",
    "\n",
    "You'll use Python to analyse real-world nutrition data, make plots, and understand key epidemiological concepts like bias, confounding, and causality.\n"
   ]
  },
  {
   "cell_type": "markdown",
   "id": "d2b2d45b",
   "metadata": {},
   "source": [
    "## ▶️ How to Use This Notebook\n",
    "\n",
    "- Press the **Play button** to run a code cell.\n",
    "- Wait for the ⚪️ to turn into a ✅.\n",
    "- If you break something, go to `Runtime > Restart and run all`.\n",
    "\n",
    "💡 This notebook includes both **code cells** and **text explanations** (like this one).\n"
   ]
  },
  {
   "cell_type": "markdown",
   "id": "f872077b",
   "metadata": {},
   "source": [
    "## 🧠 Python Basics – Just Enough to Get Started"
   ]
  },
  {
   "cell_type": "code",
   "execution_count": null,
   "id": "8f23ade8",
   "metadata": {},
   "outputs": [],
   "source": [
    "# A variable\n",
    "hippo_name = \"Helga\"\n",
    "hippo_age = 12\n",
    "\n",
    "# A list\n",
    "favourite_fruits = [\"apple\", \"banana\", \"papaya\"]\n",
    "\n",
    "# A dictionary\n",
    "hippo = {\"name\": \"Helga\", \"age\": 12, \"weight\": 1500}\n",
    "\n",
    "print(f\"{hippo['name']} is {hippo['age']} years old and weighs {hippo['weight']} kg.\")\n"
   ]
  },
  {
   "cell_type": "markdown",
   "id": "abce48a1",
   "metadata": {},
   "source": [
    "## 🗃️ Working with Tables – `pandas` DataFrames"
   ]
  },
  {
   "cell_type": "code",
   "execution_count": null,
   "id": "68ea6747",
   "metadata": {},
   "outputs": [],
   "source": [
    "import pandas as pd\n",
    "\n",
    "# Small example\n",
    "data = {\n",
    "    \"name\": [\"Helga\", \"Hugo\", \"Harriet\"],\n",
    "    \"age\": [12, 14, 10],\n",
    "    \"BMI\": [22.5, 27.8, 19.4]\n",
    "}\n",
    "\n",
    "df = pd.DataFrame(data)\n",
    "df"
   ]
  },
  {
   "cell_type": "markdown",
   "id": "26d776d4",
   "metadata": {},
   "source": [
    "## 📥 Load the Public Health Nutrition Dataset"
   ]
  },
  {
   "cell_type": "code",
   "execution_count": null,
   "id": "a7b8e77e",
   "metadata": {},
   "outputs": [],
   "source": [
    "url = \"https://raw.githubusercontent.com/ggkuhnle/FB2NEP_datascience/main/data/synthetic_phn_data.csv\"\n",
    "df = pd.read_csv(url)\n",
    "df.head()"
   ]
  },
  {
   "cell_type": "code",
   "execution_count": null,
   "id": "3b0b4d9f",
   "metadata": {},
   "outputs": [],
   "source": [
    "# Basic info\n",
    "df.info()"
   ]
  },
  {
   "cell_type": "markdown",
   "id": "5d1ce94a",
   "metadata": {},
   "source": [
    "## 📊 Quick Plots with `seaborn`"
   ]
  },
  {
   "cell_type": "code",
   "execution_count": null,
   "id": "e183e25d",
   "metadata": {},
   "outputs": [],
   "source": [
    "import seaborn as sns\n",
    "import matplotlib.pyplot as plt\n",
    "\n",
    "# Histogram of BMI\n",
    "sns.histplot(df[\"BMI\"], kde=True)\n",
    "plt.title(\"BMI Distribution\")\n",
    "plt.show()"
   ]
  },
  {
   "cell_type": "markdown",
   "id": "9d9a53f8",
   "metadata": {},
   "source": [
    "## 🧭 Principles of Data Analysis (for Nutrition & Public Health)\n",
    "\n",
    "- Look at your data before analysing\n",
    "- Visualisation helps spot patterns\n",
    "- Correlation ≠ causation\n",
    "- Always think about confounding, bias, and missing data\n"
   ]
  },
  {
   "cell_type": "markdown",
   "id": "17f2b421",
   "metadata": {},
   "source": [
    "## 📚 Recommended Resources\n",
    "\n",
    "- [Colab Intro](https://colab.research.google.com/notebooks/intro.ipynb)\n",
    "- [Python for Beginners](https://swcarpentry.github.io/python-novice-gapminder/)\n",
    "- [Pandas Cheat Sheet (PDF)](https://pandas.pydata.org/Pandas_Cheat_Sheet.pdf)\n",
    "- [Python Tutor – Visual Code Tracer](https://pythontutor.com/)\n"
   ]
  },
  {
   "cell_type": "markdown",
   "id": "7155a41c",
   "metadata": {},
   "source": [
    "## ✅ Tasks for You\n",
    "\n",
    "1. List all the variables in the dataset. Which are categorical, which are numeric?\n",
    "2. Are there any missing values?\n",
    "3. Make a plot of one of the variables using `sns.histplot`, `sns.boxplot`, or `sns.countplot`.\n",
    "4. Write 1 strength and 1 limitation of this dataset.\n"
   ]
  }
 ],
 "metadata": {},
 "nbformat": 4,
 "nbformat_minor": 5
}