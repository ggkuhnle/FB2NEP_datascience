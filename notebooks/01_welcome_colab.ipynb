{
 "cells": [
  {
   "cell_type": "markdown",
   "id": "a950b13e",
   "metadata": {},
   "source": [
    "# 🐍 Welcome to FB2NEP: Python + Colab Onboarding\n",
    "In this notebook, you'll learn how to:\n",
    "- Open and explore a dataset\n",
    "- Understand Python syntax basics\n",
    "- Use Colab for your weekly assignments"
   ]
  },
  {
   "cell_type": "code",
   "execution_count": null,
   "id": "44eed1c4",
   "metadata": {},
   "outputs": [],
   "source": [
    "# 🛠️ Install packages (only needed in Colab)\n",
    "!pip install -q pandas matplotlib seaborn"
   ]
  },
  {
   "cell_type": "code",
   "execution_count": null,
   "id": "ef1264a5",
   "metadata": {},
   "outputs": [],
   "source": [
    "# 📦 Import libraries\n",
    "import pandas as pd\n",
    "import matplotlib.pyplot as plt\n",
    "import seaborn as sns\n",
    "\n",
    "pd.set_option('display.max_columns', None)\n",
    "sns.set(style='whitegrid')"
   ]
  },
  {
   "cell_type": "markdown",
   "id": "e5a44a3f",
   "metadata": {},
   "source": [
    "## 📂 Step 1: Load the Dataset\n",
    "We use a synthetic dataset with 1000 observations. Each row is a person.\n",
    "You can load it from GitHub using the URL below."
   ]
  },
  {
   "cell_type": "code",
   "execution_count": null,
   "id": "e1896527",
   "metadata": {},
   "outputs": [],
   "source": [
    "# 🔗 Load data from GitHub\n",
    "url = 'https://raw.githubusercontent.com/ggkuhnle/FB2NEP_datascience/main/data/fb2nep_data.csv'\n",
    "df = pd.read_csv(url)\n",
    "df.head()"
   ]
  },
  {
   "cell_type": "markdown",
   "id": "ac0123c0",
   "metadata": {},
   "source": [
    "## 🔍 Step 2: Inspect the Data"
   ]
  },
  {
   "cell_type": "code",
   "execution_count": null,
   "id": "cf9575b7",
   "metadata": {},
   "outputs": [],
   "source": [
    "# Number of rows and columns\n",
    "print(f'This dataset has {df.shape[0]} rows and {df.shape[1]} columns.')\n",
    "df.columns.tolist()"
   ]
  },
  {
   "cell_type": "markdown",
   "id": "e7a4204c",
   "metadata": {},
   "source": [
    "## 📊 Step 3: Summary Statistics"
   ]
  },
  {
   "cell_type": "code",
   "execution_count": null,
   "id": "984a6ece",
   "metadata": {},
   "outputs": [],
   "source": [
    "df.describe(include='all')"
   ]
  },
  {
   "cell_type": "markdown",
   "id": "3237740c",
   "metadata": {},
   "source": [
    "## ✏️ Task 1: Describe Your Dataset\n",
    "Answer the following based on the output above:\n",
    "- What is the average age?\n",
    "- How many participants are female vs male?\n",
    "- What is the most common social class?\n",
    "- What is the range of nutrient intake?"
   ]
  },
  {
   "cell_type": "markdown",
   "id": "2f61e5df",
   "metadata": {},
   "source": [
    "## 📉 Step 4: Plotting – BMI by Sex"
   ]
  },
  {
   "cell_type": "code",
   "execution_count": null,
   "id": "0b0ac516",
   "metadata": {},
   "outputs": [],
   "source": [
    "sns.histplot(data=df, x='BMI', hue='sex', element='step', stat='density')\n",
    "plt.title('BMI Distribution by Sex')\n",
    "plt.xlabel('BMI')\n",
    "plt.ylabel('Density')\n",
    "plt.show()"
   ]
  },
  {
   "cell_type": "markdown",
   "id": "c9840ac1",
   "metadata": {},
   "source": [
    "## ✍️ Task 2: Reflection\n",
    "- What kinds of questions could this dataset help answer?\n",
    "- What might be its limitations?\n",
    "\n",
    "You can write your response below or submit via Blackboard."
   ]
  },
  {
   "cell_type": "markdown",
   "id": "3c36f8f2",
   "metadata": {},
   "source": [
    "🎉 Well done! You're now ready to move into Week 2."
   ]
  }
 ],
 "metadata": {},
 "nbformat": 4,
 "nbformat_minor": 5
}
