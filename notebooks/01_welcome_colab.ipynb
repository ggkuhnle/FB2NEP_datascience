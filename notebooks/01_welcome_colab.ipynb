{
 "cells": [
  {
   "cell_type": "markdown",
   "id": "f69bdf2b",
   "metadata": {},
   "source": [
    "# 🐍 Welcome to FB2NEP: Python + Colab Onboarding\n",
    "This notebook will help you get started with the data analysis part of the FB2NEP module.\n",
    "\n",
    "You do **not** need to install anything on your computer.\n",
    "We'll use [Google Colab](https://colab.research.google.com), a free online platform that lets you run Python code in the cloud."
   ]
  },
  {
   "cell_type": "markdown",
   "id": "cfc967d2",
   "metadata": {},
   "source": [
    "## 📌 What is Python?\n",
    "Python is a general-purpose programming language that is especially good for data analysis, statistics, and automation.\n",
    "We’ll use it to:\n",
    "- explore datasets\n",
    "- perform statistical tests\n",
    "- visualise and summarise data\n",
    "- model associations and interventions"
   ]
  },
  {
   "cell_type": "markdown",
   "id": "a01cd08c",
   "metadata": {},
   "source": [
    "## 🧪 What is a Colab Notebook?\n",
    "Colab is a browser-based platform that lets you write and run Python code in chunks called *cells*. \n",
    "- You can run each cell by clicking the ▶️ play button on the left.\n",
    "- When a cell is running, you'll see a spinning circle ⚪️.\n",
    "- Once done, the circle will become a check mark ✅ or disappear.\n",
    "\n",
    "Try it below!"
   ]
  },
  {
   "cell_type": "code",
   "execution_count": null,
   "id": "2823dbb0",
   "metadata": {},
   "outputs": [],
   "source": [
    "# 🛠️ Install packages (only needed in Colab)\n",
    "!pip install -q pandas matplotlib seaborn"
   ]
  },
  {
   "cell_type": "code",
   "execution_count": null,
   "id": "2a87a275",
   "metadata": {},
   "outputs": [],
   "source": [
    "# 📦 Import libraries\n",
    "import pandas as pd\n",
    "import matplotlib.pyplot as plt\n",
    "import seaborn as sns\n",
    "\n",
    "pd.set_option('display.max_columns', None)\n",
    "sns.set(style='whitegrid')"
   ]
  },
  {
   "cell_type": "markdown",
   "id": "79907bbc",
   "metadata": {},
   "source": [
    "## 📂 Step 1: Load the Dataset\n",
    "We use a synthetic dataset with 1000 observations. Each row is a person.\n",
    "You can load it from GitHub using the URL below."
   ]
  },
  {
   "cell_type": "code",
   "execution_count": null,
   "id": "ab7d194f",
   "metadata": {},
   "outputs": [],
   "source": [
    "# 🔗 Load data from GitHub\n",
    "url = 'https://raw.githubusercontent.com/ggkuhnle/FB2NEP_datascience/main/data/fb2nep_data.csv'\n",
    "df = pd.read_csv(url)\n",
    "df.head()"
   ]
  },
  {
   "cell_type": "markdown",
   "id": "33773ff7",
   "metadata": {},
   "source": [
    "## 🔍 Step 2: Inspect the Data"
   ]
  },
  {
   "cell_type": "code",
   "execution_count": null,
   "id": "058b5a9c",
   "metadata": {},
   "outputs": [],
   "source": [
    "# Number of rows and columns\n",
    "print(f'This dataset has {df.shape[0]} rows and {df.shape[1]} columns.')\n",
    "df.columns.tolist()"
   ]
  },
  {
   "cell_type": "markdown",
   "id": "75cc155c",
   "metadata": {},
   "source": [
    "## 📊 Step 3: Summary Statistics"
   ]
  },
  {
   "cell_type": "code",
   "execution_count": null,
   "id": "b4cb3033",
   "metadata": {},
   "outputs": [],
   "source": [
    "df.describe(include='all')"
   ]
  },
  {
   "cell_type": "markdown",
   "id": "951030cf",
   "metadata": {},
   "source": [
    "## ✏️ Task 1: Describe Your Dataset\n",
    "Answer the following based on the output above:\n",
    "- What is the average age?\n",
    "- How many participants are female vs male?\n",
    "- What is the most common social class?\n",
    "- What is the range of nutrient intake?"
   ]
  },
  {
   "cell_type": "markdown",
   "id": "ce4c3043",
   "metadata": {},
   "source": [
    "## 📉 Step 4: Plotting – BMI by Sex"
   ]
  },
  {
   "cell_type": "code",
   "execution_count": null,
   "id": "acd0f4fe",
   "metadata": {},
   "outputs": [],
   "source": [
    "sns.histplot(data=df, x='BMI', hue='sex', element='step', stat='density')\n",
    "plt.title('BMI Distribution by Sex')\n",
    "plt.xlabel('BMI')\n",
    "plt.ylabel('Density')\n",
    "plt.show()"
   ]
  },
  {
   "cell_type": "markdown",
   "id": "5054ed3e",
   "metadata": {},
   "source": [
    "## ✍️ Task 2: Reflection\n",
    "- What kinds of questions could this dataset help answer?\n",
    "- What might be its limitations?\n",
    "\n",
    "You can write your response below or submit via Blackboard."
   ]
  },
  {
   "cell_type": "markdown",
   "id": "5f98b19c",
   "metadata": {},
   "source": [
    "🎉 Well done! You're now ready to move into Week 2."
   ]
  }
 ],
 "metadata": {},
 "nbformat": 4,
 "nbformat_minor": 5
}
