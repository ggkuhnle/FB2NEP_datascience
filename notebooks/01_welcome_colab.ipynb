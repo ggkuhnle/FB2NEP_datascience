{
 "cells": [
  {
   "cell_type": "markdown",
   "id": "e1c7c889",
   "metadata": {},
   "source": [
    "# 01 – Welcome to Python, Colab, and Data Handling\n",
    "\n",
    "In this notebook, we will:\n",
    "- Learn how to load and explore data in Python\n",
    "- Understand how to handle variables, data types, and missing data\n",
    "- Prepare for working with real public health nutrition datasets\n",
    "\n",
    "👉 Before starting, make sure you’ve completed `00_playground.ipynb`.\n"
   ]
  },
  {
   "cell_type": "code",
   "execution_count": null,
   "id": "526ecf9e",
   "metadata": {},
   "outputs": [],
   "source": [
    "import pandas as pd              # for working with tabular data\n",
    "import numpy as np               # for numerical operations\n",
    "import matplotlib.pyplot as plt  # for plotting\n",
    "import seaborn as sns            # for nicer statistical visualisations\n",
    "\n",
    "# Configure plots\n",
    "sns.set(style=\"whitegrid\")\n"
   ]
  },
  {
   "cell_type": "markdown",
   "id": "d574e72c",
   "metadata": {},
   "source": [
    "## 📊 Load the dataset"
   ]
  },
  {
   "cell_type": "code",
   "execution_count": null,
   "id": "9d8bfc5d",
   "metadata": {},
   "outputs": [],
   "source": [
    "df = pd.read_csv('https://raw.githubusercontent.com/ggkuhnle/FB2NEP_datascience/main/data/fb2nep_data.csv')\n",
    "df.head()"
   ]
  },
  {
   "cell_type": "markdown",
   "id": "4caf94d7",
   "metadata": {},
   "source": [
    "## 🧾 Basic Summary of the Data"
   ]
  },
  {
   "cell_type": "code",
   "execution_count": null,
   "id": "b24c3143",
   "metadata": {},
   "outputs": [],
   "source": [
    "df.info()\n",
    "df.describe(include='all')"
   ]
  },
  {
   "cell_type": "markdown",
   "id": "bf11fdec",
   "metadata": {},
   "source": [
    "## 🔍 Understanding Data Types"
   ]
  },
  {
   "cell_type": "markdown",
   "id": "1627f4e3",
   "metadata": {},
   "source": [
    "## Understanding Data Types in Pandas\n",
    "\n",
    "- object: usually text (strings)\n",
    "- int64: whole numbers\n",
    "- float64: decimal numbers\n",
    "- bool: True or False\n",
    "- category: efficient version of object for fixed values (e.g., male/female)"
   ]
  },
  {
   "cell_type": "code",
   "execution_count": null,
   "id": "575ac587",
   "metadata": {},
   "outputs": [],
   "source": [
    "df.dtypes"
   ]
  },
  {
   "cell_type": "markdown",
   "id": "ad4057ee",
   "metadata": {},
   "source": [
    "## ⚠️ Missing Data"
   ]
  },
  {
   "cell_type": "markdown",
   "id": "c0006662",
   "metadata": {},
   "source": [
    "## ⚠️ Understanding Missing Data\n",
    "\n",
    "In real datasets, it's common to encounter **missing values** — these appear as `NaN` in Python and represent unknown or unrecorded data.\n",
    "\n",
    "### Why does missing data matter?\n",
    "\n",
    "- It can reduce statistical **power**\n",
    "- It may introduce **bias** if not handled correctly\n",
    "- It influences how you interpret results and which methods are valid\n",
    "\n",
    "---\n",
    "\n",
    "### 🔍 Types of Missingness\n",
    "\n",
    "Understanding *why* data are missing helps determine how to handle them. There are three main types:\n",
    "\n",
    "#### 1. **MCAR** – Missing Completely at Random  \n",
    "The missingness is independent of both observed and unobserved data.  \n",
    "> Example: A questionnaire page gets lost in the printer for some participants.\n",
    "\n",
    "→ Analyses remain unbiased (but may lose power).\n",
    "\n",
    "---\n",
    "\n",
    "#### 2. **MAR** – Missing at Random  \n",
    "The missingness is related to observed data, but **not** to the missing value itself.  \n",
    "> Example: Older participants are less likely to report income — but age is recorded.\n",
    "\n",
    "→ Can be handled via methods like multiple imputation or model-based adjustment.\n",
    "\n",
    "---\n",
    "\n",
    "#### 3. **MNAR** – Missing Not at Random  \n",
    "The missingness depends on unobserved values — the reason data are missing is related to the missing value itself.  \n",
    "> Example: People with very high alcohol intake choose not to report it.\n",
    "\n",
    "→ This is the most problematic and requires advanced methods or sensitivity analysis.\n",
    "\n",
    "---\n",
    "\n",
    "### 💡 In practice\n",
    "\n",
    "Before doing any statistical analysis:\n",
    "- Use `df.isna().sum()` to check for missing data\n",
    "- Consider *why* values might be missing\n",
    "- Choose an appropriate strategy (drop, impute, model)\n",
    "\n",
    "We'll explore these in context throughout this module.\n"
   ]
  },
  {
   "cell_type": "code",
   "execution_count": null,
   "id": "84a1455d",
   "metadata": {},
   "outputs": [],
   "source": [
    "df.isna().sum()"
   ]
  },
  {
   "cell_type": "markdown",
   "id": "691593f6",
   "metadata": {},
   "source": [
    "Let's introduce some missing data (completely at random ...)"
   ]
  },
  {
   "cell_type": "code",
   "execution_count": null,
   "id": "fe66a6f2",
   "metadata": {},
   "outputs": [],
   "source": [
    "df_missing = df.copy()  # Never change the original data\n",
    "\n",
    "# Introduce some missing values\n",
    "df.loc[df.sample(frac=0.02, random_state=11088).index, 'age'] = np.nan\n",
    "df.loc[df.sample(frac=0.03, random_state=42).index, 'bmi'] = np.nan"
   ]
  },
  {
   "cell_type": "markdown",
   "id": "81d7fcac",
   "metadata": {},
   "source": [
    "What do we find now?"
   ]
  },
  {
   "cell_type": "code",
   "execution_count": null,
   "id": "27106e9e",
   "metadata": {},
   "outputs": [],
   "source": [
    "df.isna().sum()"
   ]
  },
  {
   "cell_type": "markdown",
   "id": "2fc4c9ca",
   "metadata": {},
   "source": [
    "### Replace or remove missing data?"
   ]
  },
  {
   "cell_type": "code",
   "execution_count": null,
   "id": "f531da1e",
   "metadata": {},
   "outputs": [],
   "source": [
    "# Example: fill missing age with median\n",
    "df['age'] = df['age'].fillna(df['age'].median())"
   ]
  },
  {
   "cell_type": "markdown",
   "id": "13762939",
   "metadata": {},
   "source": [
    "## 🧮 Subsetting Data"
   ]
  },
  {
   "cell_type": "code",
   "execution_count": null,
   "id": "5654000a",
   "metadata": {},
   "outputs": [],
   "source": [
    "# Filter for females only\n",
    "df_female = df[df['sex'] == 'female']\n",
    "df_female.head()"
   ]
  },
  {
   "cell_type": "markdown",
   "id": "165cb918",
   "metadata": {},
   "source": [
    "## 🧠 Exercise\n",
    "\n",
    "Make a plot of one of the variables using `sns.histplot`, `sns.boxplot`, or `sns.countplot`.\n",
    "\n",
    "Then answer:\n",
    "- What is 1 **strength** of this dataset?\n",
    "- What is 1 **limitation**?\n",
    "\n",
    "✍️ Write your answers in a text cell below."
   ]
  },
  {
   "cell_type": "markdown",
   "id": "a2821e5a",
   "metadata": {},
   "source": [
    "## 🧪 Playground – try your own code below"
   ]
  },
  {
   "cell_type": "code",
   "execution_count": null,
   "id": "1fadda78",
   "metadata": {},
   "outputs": [],
   "source": [
    "# Write your own code here!"
   ]
  }
 ],
 "metadata": {
  "language_info": {
   "name": "python"
  }
 },
 "nbformat": 4,
 "nbformat_minor": 5
}
