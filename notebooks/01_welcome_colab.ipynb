{
 "cells": [
  {
   "cell_type": "markdown",
   "id": "e1c7c889",
   "metadata": {},
   "source": [
    "# 01 – Welcome to Python, Colab, and Data Handling\n",
    "\n",
    "In this notebook, we will:\n",
    "- Learn how to load and explore data in Python\n",
    "- Understand how to handle variables, data types, and missing data\n",
    "- Prepare for working with real public health nutrition datasets\n",
    "\n",
    "👉 Before starting, make sure you’ve completed `00_playground.ipynb`.\n"
   ]
  },
  {
   "cell_type": "code",
   "execution_count": null,
   "id": "526ecf9e",
   "metadata": {},
   "outputs": [],
   "source": [
    "import pandas as pd\n",
    "import numpy as np\n",
    "import matplotlib.pyplot as plt\n",
    "import seaborn as sns\n",
    "\n",
    "# Configure plots\n",
    "sns.set(style=\"whitegrid\")\n"
   ]
  },
  {
   "cell_type": "markdown",
   "id": "d574e72c",
   "metadata": {},
   "source": [
    "## 📊 Load the dataset"
   ]
  },
  {
   "cell_type": "code",
   "execution_count": null,
   "id": "9d8bfc5d",
   "metadata": {},
   "outputs": [],
   "source": [
    "df = pd.read_csv('https://raw.githubusercontent.com/ggkuhnle/FB2NEP_datascience/main/data/fb2nep_data.csv')\n",
    "df.head()"
   ]
  },
  {
   "cell_type": "markdown",
   "id": "4caf94d7",
   "metadata": {},
   "source": [
    "## 🧾 Basic Summary of the Data"
   ]
  },
  {
   "cell_type": "code",
   "execution_count": null,
   "id": "b24c3143",
   "metadata": {},
   "outputs": [],
   "source": [
    "df.info()\n",
    "df.describe(include='all')"
   ]
  },
  {
   "cell_type": "markdown",
   "id": "bf11fdec",
   "metadata": {},
   "source": [
    "## 🔍 Understanding Data Types"
   ]
  },
  {
   "cell_type": "code",
   "execution_count": null,
   "id": "575ac587",
   "metadata": {},
   "outputs": [],
   "source": [
    "df.dtypes"
   ]
  },
  {
   "cell_type": "markdown",
   "id": "ad4057ee",
   "metadata": {},
   "source": [
    "## ⚠️ Missing Data"
   ]
  },
  {
   "cell_type": "code",
   "execution_count": null,
   "id": "84a1455d",
   "metadata": {},
   "outputs": [],
   "source": [
    "df.isna().sum()"
   ]
  },
  {
   "cell_type": "markdown",
   "id": "2fc4c9ca",
   "metadata": {},
   "source": [
    "### Replace or remove missing data?"
   ]
  },
  {
   "cell_type": "code",
   "execution_count": null,
   "id": "f531da1e",
   "metadata": {},
   "outputs": [],
   "source": [
    "# Example: fill missing age with median\n",
    "df['age'] = df['age'].fillna(df['age'].median())"
   ]
  },
  {
   "cell_type": "markdown",
   "id": "13762939",
   "metadata": {},
   "source": [
    "## 🧮 Subsetting Data"
   ]
  },
  {
   "cell_type": "code",
   "execution_count": null,
   "id": "5654000a",
   "metadata": {},
   "outputs": [],
   "source": [
    "# Filter for females only\n",
    "df_female = df[df['sex'] == 'female']\n",
    "df_female.head()"
   ]
  },
  {
   "cell_type": "markdown",
   "id": "165cb918",
   "metadata": {},
   "source": [
    "## 🧠 Exercise\n",
    "\n",
    "Make a plot of one of the variables using `sns.histplot`, `sns.boxplot`, or `sns.countplot`.\n",
    "\n",
    "Then answer:\n",
    "- What is 1 **strength** of this dataset?\n",
    "- What is 1 **limitation**?\n",
    "\n",
    "✍️ Write your answers in a text cell below."
   ]
  },
  {
   "cell_type": "markdown",
   "id": "a2821e5a",
   "metadata": {},
   "source": [
    "## 🧪 Playground – try your own code below"
   ]
  },
  {
   "cell_type": "code",
   "execution_count": null,
   "id": "1fadda78",
   "metadata": {},
   "outputs": [],
   "source": [
    "# Write your own code here!"
   ]
  }
 ],
 "metadata": {},
 "nbformat": 4,
 "nbformat_minor": 5
}
