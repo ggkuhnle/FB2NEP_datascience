{
 "cells": [
  {
   "cell_type": "markdown",
   "id": "e2b6d41e",
   "metadata": {},
   "source": [
    "# 🧪 Welcome to the Playground!\n",
    "\n",
    "This notebook is your **sandbox** for learning Python and Google Colab. Feel free to experiment, make mistakes, and explore!"
   ]
  },
  {
   "cell_type": "markdown",
   "id": "f758f03e",
   "metadata": {},
   "source": [
    "## 💡 What is Python?\n",
    "Python is a popular programming language used for data science, machine learning, web development, and more.\n",
    "\n",
    "In this module, you'll use Python to analyse data and draw conclusions."
   ]
  },
  {
   "cell_type": "markdown",
   "id": "d106be9f",
   "metadata": {},
   "source": [
    "## 🤖 What is Google Colab?\n",
    "Colab lets you run Python code directly in your browser — no installation needed. It gives you a ready-to-use Python environment (like a laboratory notebook)."
   ]
  },
  {
   "cell_type": "markdown",
   "id": "d9953528",
   "metadata": {},
   "source": [
    "## ▶️ Running Code\n",
    "Click the play button on the left of a code cell, or use `Shift + Enter` to run it."
   ]
  },
  {
   "cell_type": "code",
   "execution_count": null,
   "id": "31c3fc24",
   "metadata": {},
   "outputs": [],
   "source": [
    "print('Hello, FB2NEP student! 👋')"
   ]
  },
  {
   "cell_type": "markdown",
   "id": "c9504dba",
   "metadata": {},
   "source": [
    "## ✏️ Variables and Arithmetic\n",
    "Change the numbers and rerun the cell."
   ]
  },
  {
   "cell_type": "code",
   "execution_count": null,
   "id": "c20387e0",
   "metadata": {},
   "outputs": [],
   "source": [
    "height = 1.75  # in meters\n",
    "weight = 70     # in kg\n",
    "\n",
    "bmi = weight / height**2\n",
    "print(\"Your BMI is:\", round(bmi, 1))"
   ]
  },
  {
   "cell_type": "markdown",
   "id": "4cc0ca08",
   "metadata": {},
   "source": [
    "## 📦 Lists and Dictionaries (Just a Glimpse)"
   ]
  },
  {
   "cell_type": "code",
   "execution_count": null,
   "id": "f63fed17",
   "metadata": {},
   "outputs": [],
   "source": [
    "favourite_foods = [\"apples\", \"quinoa\", \"dark chocolate\"]\n",
    "print(\"My favourite foods are:\", favourite_foods)\n",
    "\n",
    "data = {\"name\": \"Alex\", \"age\": 22, \"BMI\": 24.5}\n",
    "print(\"Data dictionary:\", data)"
   ]
  },
  {
   "cell_type": "markdown",
   "id": "cf353ac3",
   "metadata": {},
   "source": [
    "## 📊 A Tiny Plot Example"
   ]
  },
  {
   "cell_type": "code",
   "execution_count": null,
   "id": "44727595",
   "metadata": {},
   "outputs": [],
   "source": [
    "import matplotlib.pyplot as plt\n",
    "\n",
    "plt.plot([1, 4, 9, 16])\n",
    "plt.title(\"Tiny Plot\")\n",
    "plt.show()"
   ]
  },
  {
   "cell_type": "markdown",
   "id": "ad7fd63a",
   "metadata": {},
   "source": [
    "## ✅ Mini Challenge\n",
    "Try changing this code so it prints a different message or calculates a different value."
   ]
  },
  {
   "cell_type": "code",
   "execution_count": null,
   "id": "a215cacf",
   "metadata": {},
   "outputs": [],
   "source": [
    "message = \"Welcome to data science!\"\n",
    "print(message.upper())"
   ]
  },
  {
   "cell_type": "markdown",
   "id": "339027d2",
   "metadata": {},
   "source": [
    "## 🧪 Your Personal Sandbox\n",
    "Use the cell below to try anything you'd like. Nothing here can break the course materials."
   ]
  },
  {
   "cell_type": "code",
   "execution_count": null,
   "id": "5bbf5786",
   "metadata": {},
   "outputs": [],
   "source": [
    "# Type your Python code here!"
   ]
  }
 ],
 "metadata": {},
 "nbformat": 4,
 "nbformat_minor": 5
}
