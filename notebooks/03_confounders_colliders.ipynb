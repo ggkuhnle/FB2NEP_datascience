{
 "cells": [
  {
   "cell_type": "markdown",
   "id": "9a8d7af4",
   "metadata": {},
   "source": [
    "# 03 – Confounders, Colliders, and Mediators\n",
    "\n",
    "In this notebook, we explore:\n",
    "- What are confounders, colliders, and mediators?\n",
    "- Why controlling for the wrong variable can backfire\n",
    "- How to use DAGs to think through relationships\n",
    "- Examples using our dataset\n"
   ]
  },
  {
   "cell_type": "markdown",
   "id": "289fcfa3",
   "metadata": {},
   "source": [
    "## 🧠 Directed Acyclic Graphs (DAGs)\n",
    "\n",
    "To understand confounding, colliders, and mediation, we use **DAGs**. These are visual tools to represent causal relationships.\n",
    "\n",
    "- **Confounder**: A variable that affects both exposure and outcome.\n",
    "- **Collider**: A variable that is affected by two variables.\n",
    "- **Mediator**: A variable that is in the causal path between exposure and outcome.\n",
    "\n",
    "We recommend using [DAGitty](http://www.dagitty.net/) to try these out yourself.\n"
   ]
  },
  {
   "cell_type": "markdown",
   "id": "ab4b9251",
   "metadata": {},
   "source": [
    "## ⚗️ Example Setup\n",
    "\n",
    "Let’s say we’re interested in the effect of **energy intake** on **BMI**.\n",
    "\n",
    "We suspect:\n",
    "- **Age** is a confounder (affects both).\n",
    "- **Sex** may modify the relationship.\n",
    "- **SBP** (systolic blood pressure) is a *collider* if affected by both BMI and age.\n"
   ]
  },
  {
   "cell_type": "code",
   "execution_count": null,
   "id": "e807f6e7",
   "metadata": {},
   "outputs": [],
   "source": [
    "import pandas as pd\n",
    "import numpy as np\n",
    "import seaborn as sns\n",
    "import matplotlib.pyplot as plt\n",
    "import statsmodels.formula.api as smf\n",
    "\n",
    "df = pd.read_csv('https://raw.githubusercontent.com/ggkuhnle/FB2NEP_datascience/main/data/fb2nep_synthetic.csv')"
   ]
  },
  {
   "cell_type": "markdown",
   "id": "e1a53756",
   "metadata": {},
   "source": [
    "### Step 1 – Unadjusted model"
   ]
  },
  {
   "cell_type": "code",
   "execution_count": null,
   "id": "a4fec6b3",
   "metadata": {},
   "outputs": [],
   "source": [
    "model_unadj = smf.ols('bmi ~ energy_kcal', data=df).fit()\n",
    "print(model_unadj.summary())"
   ]
  },
  {
   "cell_type": "markdown",
   "id": "9b143767",
   "metadata": {},
   "source": [
    "### Step 2 – Adjusting for a Confounder (age)"
   ]
  },
  {
   "cell_type": "code",
   "execution_count": null,
   "id": "c9fb2040",
   "metadata": {},
   "outputs": [],
   "source": [
    "model_adj = smf.ols('bmi ~ energy_kcal + age', data=df).fit()\n",
    "print(model_adj.summary())"
   ]
  },
  {
   "cell_type": "markdown",
   "id": "4bfc0979",
   "metadata": {},
   "source": [
    "### Step 3 – Adjusting for a Collider (sbp)"
   ]
  },
  {
   "cell_type": "code",
   "execution_count": null,
   "id": "56bbccc3",
   "metadata": {},
   "outputs": [],
   "source": [
    "model_collider = smf.ols('bmi ~ energy_kcal + sbp', data=df).fit()\n",
    "print(model_collider.summary())"
   ]
  },
  {
   "cell_type": "markdown",
   "id": "91fd2b89",
   "metadata": {},
   "source": [
    "### Step 4 – Mediation (Exploratory)"
   ]
  },
  {
   "cell_type": "code",
   "execution_count": null,
   "id": "2ce79fc0",
   "metadata": {},
   "outputs": [],
   "source": [
    "# Check: does age affect energy?\n",
    "smf.ols('energy_kcal ~ age', data=df).fit().summary()"
   ]
  },
  {
   "cell_type": "code",
   "execution_count": null,
   "id": "f312ce96",
   "metadata": {},
   "outputs": [],
   "source": [
    "# Full model: BMI ~ age + energy_kcal\n",
    "smf.ols('bmi ~ age + energy_kcal', data=df).fit().summary()"
   ]
  },
  {
   "cell_type": "markdown",
   "id": "21ce290a",
   "metadata": {},
   "source": [
    "## 🧠 Exercise\n",
    "\n",
    "1. Identify a potential confounder in the relationship between `sex` and `sbp`.  \n",
    "2. Fit models with and without this confounder.  \n",
    "3. Interpret how the coefficient for `sex` changes.  \n",
    "4. Try a model where you (incorrectly) adjust for a collider.\n",
    "\n",
    "✍️ Add your comments and reasoning below.\n"
   ]
  },
  {
   "cell_type": "markdown",
   "id": "ebbd305c",
   "metadata": {},
   "source": [
    "## 🧪 Playground – experiment here"
   ]
  },
  {
   "cell_type": "code",
   "execution_count": null,
   "id": "8048d70d",
   "metadata": {},
   "outputs": [],
   "source": [
    "# Your code here"
   ]
  }
 ],
 "metadata": {},
 "nbformat": 4,
 "nbformat_minor": 5
}
